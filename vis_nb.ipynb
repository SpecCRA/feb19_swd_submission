{
 "cells": [
  {
   "cell_type": "markdown",
   "metadata": {},
   "source": [
    "# Import Modules"
   ]
  },
  {
   "cell_type": "code",
   "execution_count": 1,
   "metadata": {},
   "outputs": [],
   "source": [
    "import pandas as pd\n",
    "import seaborn as sns\n",
    "import plotly.plotly as py\n",
    "import plotly.graph_objs as go\n",
    "import plotly\n",
    "import os"
   ]
  },
  {
   "cell_type": "markdown",
   "metadata": {},
   "source": [
    "# Login to Plotly"
   ]
  },
  {
   "cell_type": "code",
   "execution_count": 2,
   "metadata": {},
   "outputs": [],
   "source": [
    "key = 'qvTrN8RTu8PaTCRvpUAb'\n",
    "user = 'SpecC'\n",
    "\n",
    "plotly.tools.set_credentials_file(username=user, api_key=key)"
   ]
  },
  {
   "cell_type": "markdown",
   "metadata": {},
   "source": [
    "# Load File"
   ]
  },
  {
   "cell_type": "code",
   "execution_count": 3,
   "metadata": {},
   "outputs": [],
   "source": [
    "# on mini\n",
    "# End date is Feb 5, 2019\n",
    "file_path = '/Users/mini/Documents/swd_challenges/feb_19_sub/2018_19_games_data.csv'\n",
    "\n",
    "# on tiny macbook\n",
    "\n",
    "#file_path = ''"
   ]
  },
  {
   "cell_type": "markdown",
   "metadata": {},
   "source": [
    "# Cleanup"
   ]
  },
  {
   "cell_type": "code",
   "execution_count": 4,
   "metadata": {},
   "outputs": [],
   "source": [
    "df = pd.read_csv(file_path)"
   ]
  },
  {
   "cell_type": "code",
   "execution_count": 8,
   "metadata": {},
   "outputs": [
    {
     "data": {
      "text/html": [
       "<div>\n",
       "<style scoped>\n",
       "    .dataframe tbody tr th:only-of-type {\n",
       "        vertical-align: middle;\n",
       "    }\n",
       "\n",
       "    .dataframe tbody tr th {\n",
       "        vertical-align: top;\n",
       "    }\n",
       "\n",
       "    .dataframe thead th {\n",
       "        text-align: right;\n",
       "    }\n",
       "</style>\n",
       "<table border=\"1\" class=\"dataframe\">\n",
       "  <thead>\n",
       "    <tr style=\"text-align: right;\">\n",
       "      <th></th>\n",
       "      <th>SEASON_ID</th>\n",
       "      <th>TEAM_ID</th>\n",
       "      <th>TEAM_ABBREVIATION</th>\n",
       "      <th>TEAM_NAME</th>\n",
       "      <th>GAME_ID</th>\n",
       "      <th>GAME_DATE</th>\n",
       "      <th>MATCHUP</th>\n",
       "      <th>WL</th>\n",
       "      <th>MIN</th>\n",
       "      <th>FGM</th>\n",
       "      <th>...</th>\n",
       "      <th>DREB</th>\n",
       "      <th>REB</th>\n",
       "      <th>AST</th>\n",
       "      <th>STL</th>\n",
       "      <th>BLK</th>\n",
       "      <th>TOV</th>\n",
       "      <th>PF</th>\n",
       "      <th>PTS</th>\n",
       "      <th>PLUS_MINUS</th>\n",
       "      <th>VIDEO_AVAILABLE</th>\n",
       "    </tr>\n",
       "  </thead>\n",
       "  <tbody>\n",
       "    <tr>\n",
       "      <th>0</th>\n",
       "      <td>22018</td>\n",
       "      <td>1610612760</td>\n",
       "      <td>OKC</td>\n",
       "      <td>Oklahoma City Thunder</td>\n",
       "      <td>21800002</td>\n",
       "      <td>2018-10-16</td>\n",
       "      <td>OKC @ GSW</td>\n",
       "      <td>L</td>\n",
       "      <td>240</td>\n",
       "      <td>33</td>\n",
       "      <td>...</td>\n",
       "      <td>29</td>\n",
       "      <td>45</td>\n",
       "      <td>21</td>\n",
       "      <td>12</td>\n",
       "      <td>6</td>\n",
       "      <td>15</td>\n",
       "      <td>21</td>\n",
       "      <td>100</td>\n",
       "      <td>-8</td>\n",
       "      <td>1</td>\n",
       "    </tr>\n",
       "    <tr>\n",
       "      <th>1</th>\n",
       "      <td>22018</td>\n",
       "      <td>1610612744</td>\n",
       "      <td>GSW</td>\n",
       "      <td>Golden State Warriors</td>\n",
       "      <td>21800002</td>\n",
       "      <td>2018-10-16</td>\n",
       "      <td>GSW vs. OKC</td>\n",
       "      <td>W</td>\n",
       "      <td>240</td>\n",
       "      <td>42</td>\n",
       "      <td>...</td>\n",
       "      <td>41</td>\n",
       "      <td>58</td>\n",
       "      <td>28</td>\n",
       "      <td>7</td>\n",
       "      <td>7</td>\n",
       "      <td>21</td>\n",
       "      <td>29</td>\n",
       "      <td>108</td>\n",
       "      <td>8</td>\n",
       "      <td>1</td>\n",
       "    </tr>\n",
       "    <tr>\n",
       "      <th>2</th>\n",
       "      <td>22018</td>\n",
       "      <td>1610612755</td>\n",
       "      <td>PHI</td>\n",
       "      <td>Philadelphia 76ers</td>\n",
       "      <td>21800001</td>\n",
       "      <td>2018-10-16</td>\n",
       "      <td>PHI @ BOS</td>\n",
       "      <td>L</td>\n",
       "      <td>240</td>\n",
       "      <td>34</td>\n",
       "      <td>...</td>\n",
       "      <td>41</td>\n",
       "      <td>47</td>\n",
       "      <td>18</td>\n",
       "      <td>8</td>\n",
       "      <td>5</td>\n",
       "      <td>16</td>\n",
       "      <td>20</td>\n",
       "      <td>87</td>\n",
       "      <td>-18</td>\n",
       "      <td>1</td>\n",
       "    </tr>\n",
       "    <tr>\n",
       "      <th>3</th>\n",
       "      <td>22018</td>\n",
       "      <td>1610612738</td>\n",
       "      <td>BOS</td>\n",
       "      <td>Boston Celtics</td>\n",
       "      <td>21800001</td>\n",
       "      <td>2018-10-16</td>\n",
       "      <td>BOS vs. PHI</td>\n",
       "      <td>W</td>\n",
       "      <td>240</td>\n",
       "      <td>42</td>\n",
       "      <td>...</td>\n",
       "      <td>43</td>\n",
       "      <td>55</td>\n",
       "      <td>21</td>\n",
       "      <td>7</td>\n",
       "      <td>5</td>\n",
       "      <td>15</td>\n",
       "      <td>20</td>\n",
       "      <td>105</td>\n",
       "      <td>18</td>\n",
       "      <td>1</td>\n",
       "    </tr>\n",
       "    <tr>\n",
       "      <th>4</th>\n",
       "      <td>22018</td>\n",
       "      <td>1610612759</td>\n",
       "      <td>SAS</td>\n",
       "      <td>San Antonio Spurs</td>\n",
       "      <td>21800010</td>\n",
       "      <td>2018-10-17</td>\n",
       "      <td>SAS vs. MIN</td>\n",
       "      <td>W</td>\n",
       "      <td>240</td>\n",
       "      <td>40</td>\n",
       "      <td>...</td>\n",
       "      <td>33</td>\n",
       "      <td>52</td>\n",
       "      <td>22</td>\n",
       "      <td>3</td>\n",
       "      <td>4</td>\n",
       "      <td>12</td>\n",
       "      <td>22</td>\n",
       "      <td>112</td>\n",
       "      <td>4</td>\n",
       "      <td>2</td>\n",
       "    </tr>\n",
       "  </tbody>\n",
       "</table>\n",
       "<p>5 rows × 29 columns</p>\n",
       "</div>"
      ],
      "text/plain": [
       "   SEASON_ID     TEAM_ID TEAM_ABBREVIATION              TEAM_NAME   GAME_ID  \\\n",
       "0      22018  1610612760               OKC  Oklahoma City Thunder  21800002   \n",
       "1      22018  1610612744               GSW  Golden State Warriors  21800002   \n",
       "2      22018  1610612755               PHI     Philadelphia 76ers  21800001   \n",
       "3      22018  1610612738               BOS         Boston Celtics  21800001   \n",
       "4      22018  1610612759               SAS      San Antonio Spurs  21800010   \n",
       "\n",
       "    GAME_DATE      MATCHUP WL  MIN  FGM       ...         DREB  REB  AST  STL  \\\n",
       "0  2018-10-16    OKC @ GSW  L  240   33       ...           29   45   21   12   \n",
       "1  2018-10-16  GSW vs. OKC  W  240   42       ...           41   58   28    7   \n",
       "2  2018-10-16    PHI @ BOS  L  240   34       ...           41   47   18    8   \n",
       "3  2018-10-16  BOS vs. PHI  W  240   42       ...           43   55   21    7   \n",
       "4  2018-10-17  SAS vs. MIN  W  240   40       ...           33   52   22    3   \n",
       "\n",
       "   BLK  TOV  PF  PTS  PLUS_MINUS  VIDEO_AVAILABLE  \n",
       "0    6   15  21  100          -8                1  \n",
       "1    7   21  29  108           8                1  \n",
       "2    5   16  20   87         -18                1  \n",
       "3    5   15  20  105          18                1  \n",
       "4    4   12  22  112           4                2  \n",
       "\n",
       "[5 rows x 29 columns]"
      ]
     },
     "execution_count": 8,
     "metadata": {},
     "output_type": "execute_result"
    }
   ],
   "source": [
    "df.head(n=5)"
   ]
  },
  {
   "cell_type": "code",
   "execution_count": 6,
   "metadata": {},
   "outputs": [],
   "source": [
    "df = df.drop(df.columns[0], axis=1) # drop that odd first column"
   ]
  },
  {
   "cell_type": "code",
   "execution_count": 7,
   "metadata": {},
   "outputs": [
    {
     "data": {
      "text/plain": [
       "['SEASON_ID',\n",
       " 'TEAM_ID',\n",
       " 'TEAM_ABBREVIATION',\n",
       " 'TEAM_NAME',\n",
       " 'GAME_ID',\n",
       " 'GAME_DATE',\n",
       " 'MATCHUP',\n",
       " 'WL',\n",
       " 'MIN',\n",
       " 'FGM',\n",
       " 'FGA',\n",
       " 'FG_PCT',\n",
       " 'FG3M',\n",
       " 'FG3A',\n",
       " 'FG3_PCT',\n",
       " 'FTM',\n",
       " 'FTA',\n",
       " 'FT_PCT',\n",
       " 'OREB',\n",
       " 'DREB',\n",
       " 'REB',\n",
       " 'AST',\n",
       " 'STL',\n",
       " 'BLK',\n",
       " 'TOV',\n",
       " 'PF',\n",
       " 'PTS',\n",
       " 'PLUS_MINUS',\n",
       " 'VIDEO_AVAILABLE']"
      ]
     },
     "execution_count": 7,
     "metadata": {},
     "output_type": "execute_result"
    }
   ],
   "source": [
    "list(df) # check columns"
   ]
  },
  {
   "cell_type": "markdown",
   "metadata": {},
   "source": [
    "# Plots"
   ]
  },
  {
   "cell_type": "code",
   "execution_count": 10,
   "metadata": {},
   "outputs": [],
   "source": [
    "teams = list(df.TEAM_ABBREVIATION.unique()) # gather list of teams"
   ]
  },
  {
   "cell_type": "code",
   "execution_count": 13,
   "metadata": {},
   "outputs": [],
   "source": [
    "gsw_df = df[df['TEAM_ABBREVIATION'] == 'GSW']"
   ]
  },
  {
   "cell_type": "code",
   "execution_count": 18,
   "metadata": {},
   "outputs": [
    {
     "data": {
      "text/plain": [
       "count     52.000000\n",
       "mean     118.692308\n",
       "std       14.452815\n",
       "min       86.000000\n",
       "25%      109.750000\n",
       "50%      117.000000\n",
       "75%      128.250000\n",
       "max      149.000000\n",
       "Name: PTS, dtype: float64"
      ]
     },
     "execution_count": 18,
     "metadata": {},
     "output_type": "execute_result"
    }
   ],
   "source": [
    "gsw_df['PTS'].describe()\n",
    "\n",
    "# 0 is count\n",
    "# 1 is mean\n",
    "# 2 is std\n",
    "# 3 is min\n",
    "# 7 is max"
   ]
  },
  {
   "cell_type": "code",
   "execution_count": null,
   "metadata": {},
   "outputs": [],
   "source": []
  }
 ],
 "metadata": {
  "kernelspec": {
   "display_name": "Python 3",
   "language": "python",
   "name": "python3"
  },
  "language_info": {
   "codemirror_mode": {
    "name": "ipython",
    "version": 3
   },
   "file_extension": ".py",
   "mimetype": "text/x-python",
   "name": "python",
   "nbconvert_exporter": "python",
   "pygments_lexer": "ipython3",
   "version": "3.6.8"
  }
 },
 "nbformat": 4,
 "nbformat_minor": 2
}
