{
 "cells": [
  {
   "cell_type": "markdown",
   "metadata": {},
   "source": [
    "# Import Modules"
   ]
  },
  {
   "cell_type": "code",
   "execution_count": 20,
   "metadata": {},
   "outputs": [],
   "source": [
    "import pandas as pd\n",
    "import seaborn as sns\n",
    "import plotly.plotly as py\n",
    "import plotly.graph_objs as go\n",
    "import plotly\n",
    "import os\n",
    "from operator import itemgetter"
   ]
  },
  {
   "cell_type": "markdown",
   "metadata": {},
   "source": [
    "# Login to Plotly"
   ]
  },
  {
   "cell_type": "code",
   "execution_count": 6,
   "metadata": {},
   "outputs": [],
   "source": [
    "key = 'qvTrN8RTu8PaTCRvpUAb'\n",
    "user = 'SpecC'\n",
    "\n",
    "plotly.tools.set_credentials_file(username=user, api_key=key)"
   ]
  },
  {
   "cell_type": "markdown",
   "metadata": {},
   "source": [
    "# Load File"
   ]
  },
  {
   "cell_type": "code",
   "execution_count": 7,
   "metadata": {},
   "outputs": [],
   "source": [
    "# on mini\n",
    "# End date is Feb 5, 2019\n",
    "#file_path = '/Users/mini/Documents/swd_challenges/feb_19_sub/2018_19_games_data.csv'\n",
    "\n",
    "# on tiny macbook\n",
    "\n",
    "file_path = '/Users/benjaminxiao/Documents/swd_challenges/feb_19_sub/2018_19_games_data.csv'"
   ]
  },
  {
   "cell_type": "markdown",
   "metadata": {},
   "source": [
    "# Cleanup"
   ]
  },
  {
   "cell_type": "code",
   "execution_count": 8,
   "metadata": {},
   "outputs": [],
   "source": [
    "df = pd.read_csv(file_path)"
   ]
  },
  {
   "cell_type": "code",
   "execution_count": 9,
   "metadata": {},
   "outputs": [
    {
     "data": {
      "text/html": [
       "<div>\n",
       "<style scoped>\n",
       "    .dataframe tbody tr th:only-of-type {\n",
       "        vertical-align: middle;\n",
       "    }\n",
       "\n",
       "    .dataframe tbody tr th {\n",
       "        vertical-align: top;\n",
       "    }\n",
       "\n",
       "    .dataframe thead th {\n",
       "        text-align: right;\n",
       "    }\n",
       "</style>\n",
       "<table border=\"1\" class=\"dataframe\">\n",
       "  <thead>\n",
       "    <tr style=\"text-align: right;\">\n",
       "      <th></th>\n",
       "      <th>Unnamed: 0</th>\n",
       "      <th>SEASON_ID</th>\n",
       "      <th>TEAM_ID</th>\n",
       "      <th>TEAM_ABBREVIATION</th>\n",
       "      <th>TEAM_NAME</th>\n",
       "      <th>GAME_ID</th>\n",
       "      <th>GAME_DATE</th>\n",
       "      <th>MATCHUP</th>\n",
       "      <th>WL</th>\n",
       "      <th>MIN</th>\n",
       "      <th>...</th>\n",
       "      <th>DREB</th>\n",
       "      <th>REB</th>\n",
       "      <th>AST</th>\n",
       "      <th>STL</th>\n",
       "      <th>BLK</th>\n",
       "      <th>TOV</th>\n",
       "      <th>PF</th>\n",
       "      <th>PTS</th>\n",
       "      <th>PLUS_MINUS</th>\n",
       "      <th>VIDEO_AVAILABLE</th>\n",
       "    </tr>\n",
       "  </thead>\n",
       "  <tbody>\n",
       "    <tr>\n",
       "      <th>0</th>\n",
       "      <td>0</td>\n",
       "      <td>22018</td>\n",
       "      <td>1610612760</td>\n",
       "      <td>OKC</td>\n",
       "      <td>Oklahoma City Thunder</td>\n",
       "      <td>21800002</td>\n",
       "      <td>2018-10-16</td>\n",
       "      <td>OKC @ GSW</td>\n",
       "      <td>L</td>\n",
       "      <td>240</td>\n",
       "      <td>...</td>\n",
       "      <td>29</td>\n",
       "      <td>45</td>\n",
       "      <td>21</td>\n",
       "      <td>12</td>\n",
       "      <td>6</td>\n",
       "      <td>15</td>\n",
       "      <td>21</td>\n",
       "      <td>100</td>\n",
       "      <td>-8</td>\n",
       "      <td>1</td>\n",
       "    </tr>\n",
       "    <tr>\n",
       "      <th>1</th>\n",
       "      <td>1</td>\n",
       "      <td>22018</td>\n",
       "      <td>1610612744</td>\n",
       "      <td>GSW</td>\n",
       "      <td>Golden State Warriors</td>\n",
       "      <td>21800002</td>\n",
       "      <td>2018-10-16</td>\n",
       "      <td>GSW vs. OKC</td>\n",
       "      <td>W</td>\n",
       "      <td>240</td>\n",
       "      <td>...</td>\n",
       "      <td>41</td>\n",
       "      <td>58</td>\n",
       "      <td>28</td>\n",
       "      <td>7</td>\n",
       "      <td>7</td>\n",
       "      <td>21</td>\n",
       "      <td>29</td>\n",
       "      <td>108</td>\n",
       "      <td>8</td>\n",
       "      <td>1</td>\n",
       "    </tr>\n",
       "    <tr>\n",
       "      <th>2</th>\n",
       "      <td>2</td>\n",
       "      <td>22018</td>\n",
       "      <td>1610612755</td>\n",
       "      <td>PHI</td>\n",
       "      <td>Philadelphia 76ers</td>\n",
       "      <td>21800001</td>\n",
       "      <td>2018-10-16</td>\n",
       "      <td>PHI @ BOS</td>\n",
       "      <td>L</td>\n",
       "      <td>240</td>\n",
       "      <td>...</td>\n",
       "      <td>41</td>\n",
       "      <td>47</td>\n",
       "      <td>18</td>\n",
       "      <td>8</td>\n",
       "      <td>5</td>\n",
       "      <td>16</td>\n",
       "      <td>20</td>\n",
       "      <td>87</td>\n",
       "      <td>-18</td>\n",
       "      <td>1</td>\n",
       "    </tr>\n",
       "    <tr>\n",
       "      <th>3</th>\n",
       "      <td>3</td>\n",
       "      <td>22018</td>\n",
       "      <td>1610612738</td>\n",
       "      <td>BOS</td>\n",
       "      <td>Boston Celtics</td>\n",
       "      <td>21800001</td>\n",
       "      <td>2018-10-16</td>\n",
       "      <td>BOS vs. PHI</td>\n",
       "      <td>W</td>\n",
       "      <td>240</td>\n",
       "      <td>...</td>\n",
       "      <td>43</td>\n",
       "      <td>55</td>\n",
       "      <td>21</td>\n",
       "      <td>7</td>\n",
       "      <td>5</td>\n",
       "      <td>15</td>\n",
       "      <td>20</td>\n",
       "      <td>105</td>\n",
       "      <td>18</td>\n",
       "      <td>1</td>\n",
       "    </tr>\n",
       "    <tr>\n",
       "      <th>4</th>\n",
       "      <td>4</td>\n",
       "      <td>22018</td>\n",
       "      <td>1610612759</td>\n",
       "      <td>SAS</td>\n",
       "      <td>San Antonio Spurs</td>\n",
       "      <td>21800010</td>\n",
       "      <td>2018-10-17</td>\n",
       "      <td>SAS vs. MIN</td>\n",
       "      <td>W</td>\n",
       "      <td>240</td>\n",
       "      <td>...</td>\n",
       "      <td>33</td>\n",
       "      <td>52</td>\n",
       "      <td>22</td>\n",
       "      <td>3</td>\n",
       "      <td>4</td>\n",
       "      <td>12</td>\n",
       "      <td>22</td>\n",
       "      <td>112</td>\n",
       "      <td>4</td>\n",
       "      <td>2</td>\n",
       "    </tr>\n",
       "  </tbody>\n",
       "</table>\n",
       "<p>5 rows × 30 columns</p>\n",
       "</div>"
      ],
      "text/plain": [
       "   Unnamed: 0  SEASON_ID     TEAM_ID TEAM_ABBREVIATION              TEAM_NAME  \\\n",
       "0           0      22018  1610612760               OKC  Oklahoma City Thunder   \n",
       "1           1      22018  1610612744               GSW  Golden State Warriors   \n",
       "2           2      22018  1610612755               PHI     Philadelphia 76ers   \n",
       "3           3      22018  1610612738               BOS         Boston Celtics   \n",
       "4           4      22018  1610612759               SAS      San Antonio Spurs   \n",
       "\n",
       "    GAME_ID   GAME_DATE      MATCHUP WL  MIN       ...         DREB  REB  AST  \\\n",
       "0  21800002  2018-10-16    OKC @ GSW  L  240       ...           29   45   21   \n",
       "1  21800002  2018-10-16  GSW vs. OKC  W  240       ...           41   58   28   \n",
       "2  21800001  2018-10-16    PHI @ BOS  L  240       ...           41   47   18   \n",
       "3  21800001  2018-10-16  BOS vs. PHI  W  240       ...           43   55   21   \n",
       "4  21800010  2018-10-17  SAS vs. MIN  W  240       ...           33   52   22   \n",
       "\n",
       "   STL  BLK  TOV  PF  PTS  PLUS_MINUS  VIDEO_AVAILABLE  \n",
       "0   12    6   15  21  100          -8                1  \n",
       "1    7    7   21  29  108           8                1  \n",
       "2    8    5   16  20   87         -18                1  \n",
       "3    7    5   15  20  105          18                1  \n",
       "4    3    4   12  22  112           4                2  \n",
       "\n",
       "[5 rows x 30 columns]"
      ]
     },
     "execution_count": 9,
     "metadata": {},
     "output_type": "execute_result"
    }
   ],
   "source": [
    "df.head(n=5)"
   ]
  },
  {
   "cell_type": "code",
   "execution_count": 10,
   "metadata": {},
   "outputs": [],
   "source": [
    "df = df.drop(df.columns[0], axis=1) # drop that odd first column"
   ]
  },
  {
   "cell_type": "code",
   "execution_count": 11,
   "metadata": {},
   "outputs": [
    {
     "data": {
      "text/plain": [
       "['SEASON_ID',\n",
       " 'TEAM_ID',\n",
       " 'TEAM_ABBREVIATION',\n",
       " 'TEAM_NAME',\n",
       " 'GAME_ID',\n",
       " 'GAME_DATE',\n",
       " 'MATCHUP',\n",
       " 'WL',\n",
       " 'MIN',\n",
       " 'FGM',\n",
       " 'FGA',\n",
       " 'FG_PCT',\n",
       " 'FG3M',\n",
       " 'FG3A',\n",
       " 'FG3_PCT',\n",
       " 'FTM',\n",
       " 'FTA',\n",
       " 'FT_PCT',\n",
       " 'OREB',\n",
       " 'DREB',\n",
       " 'REB',\n",
       " 'AST',\n",
       " 'STL',\n",
       " 'BLK',\n",
       " 'TOV',\n",
       " 'PF',\n",
       " 'PTS',\n",
       " 'PLUS_MINUS',\n",
       " 'VIDEO_AVAILABLE']"
      ]
     },
     "execution_count": 11,
     "metadata": {},
     "output_type": "execute_result"
    }
   ],
   "source": [
    "list(df) # check columns"
   ]
  },
  {
   "cell_type": "markdown",
   "metadata": {},
   "source": [
    "# Data Exploration"
   ]
  },
  {
   "cell_type": "code",
   "execution_count": 12,
   "metadata": {},
   "outputs": [],
   "source": [
    "teams = list(df.TEAM_NAME.unique()) # gather list of teams"
   ]
  },
  {
   "cell_type": "code",
   "execution_count": 13,
   "metadata": {},
   "outputs": [],
   "source": [
    "gsw_df = df[df.TEAM_NAME == 'Golden State Warriors']"
   ]
  },
  {
   "cell_type": "code",
   "execution_count": 14,
   "metadata": {},
   "outputs": [
    {
     "data": {
      "text/plain": [
       "count     52.000000\n",
       "mean     118.692308\n",
       "std       14.452815\n",
       "min       86.000000\n",
       "25%      109.750000\n",
       "50%      117.000000\n",
       "75%      128.250000\n",
       "max      149.000000\n",
       "Name: PTS, dtype: float64"
      ]
     },
     "execution_count": 14,
     "metadata": {},
     "output_type": "execute_result"
    }
   ],
   "source": [
    "gsw_df['PTS'].describe()\n",
    "\n",
    "# 0 is count\n",
    "# 1 is mean\n",
    "# 2 is std\n",
    "# 3 is min\n",
    "# 7 is max"
   ]
  },
  {
   "cell_type": "code",
   "execution_count": 15,
   "metadata": {},
   "outputs": [
    {
     "data": {
      "text/plain": [
       "14.452814993516052"
      ]
     },
     "execution_count": 15,
     "metadata": {},
     "output_type": "execute_result"
    }
   ],
   "source": [
    "gsw_df.PTS.std()"
   ]
  },
  {
   "cell_type": "code",
   "execution_count": 16,
   "metadata": {},
   "outputs": [],
   "source": [
    "# store calculated values into a list of dictionaries\n",
    "\n",
    "team_calc = list()\n",
    "\n",
    "for team in teams:\n",
    "    data = dict()\n",
    "    team_df = df[df['TEAM_NAME'] == team]\n",
    "    data['team'] = team\n",
    "    data['std pts'] = team_df.PTS.std()\n",
    "    data['min pts'] = team_df.PTS.min()\n",
    "    data['max pts'] = team_df.PTS.max()\n",
    "    data['diff pts'] = team_df.PTS.max() - team_df.PTS.min()\n",
    "    team_calc.append(data)"
   ]
  },
  {
   "cell_type": "code",
   "execution_count": 17,
   "metadata": {},
   "outputs": [
    {
     "data": {
      "text/plain": [
       "[{'team': 'Oklahoma City Thunder',\n",
       "  'std pts': 11.917014704929404,\n",
       "  'min pts': 92,\n",
       "  'max pts': 147,\n",
       "  'diff pts': 55},\n",
       " {'team': 'Golden State Warriors',\n",
       "  'std pts': 14.452814993516052,\n",
       "  'min pts': 86,\n",
       "  'max pts': 149,\n",
       "  'diff pts': 63},\n",
       " {'team': 'Philadelphia 76ers',\n",
       "  'std pts': 11.566053125663066,\n",
       "  'min pts': 87,\n",
       "  'max pts': 149,\n",
       "  'diff pts': 62},\n",
       " {'team': 'Boston Celtics',\n",
       "  'std pts': 10.85409235057068,\n",
       "  'min pts': 86,\n",
       "  'max pts': 135,\n",
       "  'diff pts': 49},\n",
       " {'team': 'San Antonio Spurs',\n",
       "  'std pts': 13.906251773351379,\n",
       "  'min pts': 86,\n",
       "  'max pts': 154,\n",
       "  'diff pts': 68},\n",
       " {'team': 'Minnesota Timberwolves',\n",
       "  'std pts': 11.108124094546966,\n",
       "  'min pts': 81,\n",
       "  'max pts': 136,\n",
       "  'diff pts': 55},\n",
       " {'team': 'Atlanta Hawks',\n",
       "  'std pts': 11.553968776345233,\n",
       "  'min pts': 85,\n",
       "  'max pts': 142,\n",
       "  'diff pts': 57},\n",
       " {'team': 'New York Knicks',\n",
       "  'std pts': 10.7564406736228,\n",
       "  'min pts': 84,\n",
       "  'max pts': 136,\n",
       "  'diff pts': 52},\n",
       " {'team': 'Dallas Mavericks',\n",
       "  'std pts': 9.973172914317884,\n",
       "  'min pts': 88,\n",
       "  'max pts': 140,\n",
       "  'diff pts': 52},\n",
       " {'team': 'Phoenix Suns',\n",
       "  'std pts': 12.14605282907165,\n",
       "  'min pts': 82,\n",
       "  'max pts': 146,\n",
       "  'diff pts': 64},\n",
       " {'team': 'Houston Rockets',\n",
       "  'std pts': 14.877779770999727,\n",
       "  'min pts': 80,\n",
       "  'max pts': 142,\n",
       "  'diff pts': 62},\n",
       " {'team': 'New Orleans Pelicans',\n",
       "  'std pts': 12.12589734588937,\n",
       "  'min pts': 94,\n",
       "  'max pts': 149,\n",
       "  'diff pts': 55},\n",
       " {'team': 'Brooklyn Nets',\n",
       "  'std pts': 12.497487963075034,\n",
       "  'min pts': 87,\n",
       "  'max pts': 145,\n",
       "  'diff pts': 58},\n",
       " {'team': 'Detroit Pistons',\n",
       "  'std pts': 11.187153113059477,\n",
       "  'min pts': 83,\n",
       "  'max pts': 133,\n",
       "  'diff pts': 50},\n",
       " {'team': 'Orlando Magic',\n",
       "  'std pts': 12.23576055985027,\n",
       "  'min pts': 76,\n",
       "  'max pts': 131,\n",
       "  'diff pts': 55},\n",
       " {'team': 'Miami Heat',\n",
       "  'std pts': 10.69916335658635,\n",
       "  'min pts': 82,\n",
       "  'max pts': 121,\n",
       "  'diff pts': 39},\n",
       " {'team': 'Denver Nuggets',\n",
       "  'std pts': 11.270425740474623,\n",
       "  'min pts': 87,\n",
       "  'max pts': 138,\n",
       "  'diff pts': 51},\n",
       " {'team': 'LA Clippers',\n",
       "  'std pts': 11.816441208260752,\n",
       "  'min pts': 86,\n",
       "  'max pts': 136,\n",
       "  'diff pts': 50},\n",
       " {'team': 'Indiana Pacers',\n",
       "  'std pts': 11.366150538212247,\n",
       "  'min pts': 89,\n",
       "  'max pts': 136,\n",
       "  'diff pts': 47},\n",
       " {'team': 'Memphis Grizzlies',\n",
       "  'std pts': 10.166691505185753,\n",
       "  'min pts': 83,\n",
       "  'max pts': 131,\n",
       "  'diff pts': 48},\n",
       " {'team': 'Utah Jazz',\n",
       "  'std pts': 14.254267324810337,\n",
       "  'min pts': 68,\n",
       "  'max pts': 139,\n",
       "  'diff pts': 71},\n",
       " {'team': 'Sacramento Kings',\n",
       "  'std pts': 11.687575430707433,\n",
       "  'min pts': 86,\n",
       "  'max pts': 146,\n",
       "  'diff pts': 60},\n",
       " {'team': 'Charlotte Hornets',\n",
       "  'std pts': 11.83623743809055,\n",
       "  'min pts': 84,\n",
       "  'max pts': 135,\n",
       "  'diff pts': 51},\n",
       " {'team': 'Milwaukee Bucks',\n",
       "  'std pts': 11.953703427851371,\n",
       "  'min pts': 87,\n",
       "  'max pts': 144,\n",
       "  'diff pts': 57},\n",
       " {'team': 'Cleveland Cavaliers',\n",
       "  'std pts': 11.013745303232335,\n",
       "  'min pts': 83,\n",
       "  'max pts': 136,\n",
       "  'diff pts': 53},\n",
       " {'team': 'Toronto Raptors',\n",
       "  'std pts': 11.535540163715213,\n",
       "  'min pts': 86,\n",
       "  'max pts': 140,\n",
       "  'diff pts': 54},\n",
       " {'team': 'Chicago Bulls',\n",
       "  'std pts': 10.777301040001687,\n",
       "  'min pts': 77,\n",
       "  'max pts': 124,\n",
       "  'diff pts': 47},\n",
       " {'team': 'Los Angeles Lakers',\n",
       "  'std pts': 11.937994943475234,\n",
       "  'min pts': 85,\n",
       "  'max pts': 142,\n",
       "  'diff pts': 57},\n",
       " {'team': 'Portland Trail Blazers',\n",
       "  'std pts': 11.463927143185579,\n",
       "  'min pts': 83,\n",
       "  'max pts': 132,\n",
       "  'diff pts': 49},\n",
       " {'team': 'Washington Wizards',\n",
       "  'std pts': 12.344181215024992,\n",
       "  'min pts': 89,\n",
       "  'max pts': 149,\n",
       "  'diff pts': 60}]"
      ]
     },
     "execution_count": 17,
     "metadata": {},
     "output_type": "execute_result"
    }
   ],
   "source": [
    "team_calc"
   ]
  },
  {
   "cell_type": "code",
   "execution_count": 26,
   "metadata": {},
   "outputs": [],
   "source": [
    "# sort list by highest std\n",
    "\n",
    "std_sort = sorted(team_calc, key=itemgetter('std pts'))\n",
    "#std_sort[0] # most consistent team\n",
    "#std_sort[-1] # most variable team"
   ]
  },
  {
   "cell_type": "code",
   "execution_count": 27,
   "metadata": {},
   "outputs": [
    {
     "name": "stdout",
     "output_type": "stream",
     "text": [
      "{'team': 'Dallas Mavericks', 'std pts': 9.973172914317884, 'min pts': 88, 'max pts': 140, 'diff pts': 52}\n",
      "{'team': 'Houston Rockets', 'std pts': 14.877779770999727, 'min pts': 80, 'max pts': 142, 'diff pts': 62}\n"
     ]
    }
   ],
   "source": [
    "print(std_sort[0]) # Make line Dallas blue\n",
    "print(std_sort[-1]) # Make line Houston red"
   ]
  },
  {
   "cell_type": "code",
   "execution_count": 29,
   "metadata": {},
   "outputs": [
    {
     "name": "stdout",
     "output_type": "stream",
     "text": [
      "{'team': 'Utah Jazz', 'std pts': 14.254267324810337, 'min pts': 68, 'max pts': 139, 'diff pts': 71}\n",
      "{'team': 'San Antonio Spurs', 'std pts': 13.906251773351379, 'min pts': 86, 'max pts': 154, 'diff pts': 68}\n"
     ]
    }
   ],
   "source": [
    "# find the lowest and highest scoring games\n",
    "\n",
    "minpts_sort = sorted(team_calc, key=itemgetter('min pts'))\n",
    "print(minpts_sort[0])\n",
    "\n",
    "maxpts_sort = sorted(team_calc, key=itemgetter('max pts'), reverse=True)\n",
    "print(maxpts_sort[0])"
   ]
  },
  {
   "cell_type": "code",
   "execution_count": 33,
   "metadata": {},
   "outputs": [
    {
     "name": "stdout",
     "output_type": "stream",
     "text": [
      "{'team': 'Utah Jazz', 'std pts': 14.254267324810337, 'min pts': 68, 'max pts': 139, 'diff pts': 71}\n"
     ]
    }
   ],
   "source": [
    "# Team with biggest difference in highest and lowest scoring game\n",
    "\n",
    "diffpt_sort = sorted(team_calc, key=itemgetter('diff pts'), reverse=True)\n",
    "print(diffpt_sort[0])"
   ]
  },
  {
   "cell_type": "markdown",
   "metadata": {},
   "source": [
    "This isn't that interesting. They did only score 68 points. Some teams can easily total 68 points in one half."
   ]
  },
  {
   "cell_type": "code",
   "execution_count": 30,
   "metadata": {},
   "outputs": [
    {
     "data": {
      "text/html": [
       "<div>\n",
       "<style scoped>\n",
       "    .dataframe tbody tr th:only-of-type {\n",
       "        vertical-align: middle;\n",
       "    }\n",
       "\n",
       "    .dataframe tbody tr th {\n",
       "        vertical-align: top;\n",
       "    }\n",
       "\n",
       "    .dataframe thead th {\n",
       "        text-align: right;\n",
       "    }\n",
       "</style>\n",
       "<table border=\"1\" class=\"dataframe\">\n",
       "  <thead>\n",
       "    <tr style=\"text-align: right;\">\n",
       "      <th></th>\n",
       "      <th>SEASON_ID</th>\n",
       "      <th>TEAM_ID</th>\n",
       "      <th>TEAM_ABBREVIATION</th>\n",
       "      <th>TEAM_NAME</th>\n",
       "      <th>GAME_ID</th>\n",
       "      <th>GAME_DATE</th>\n",
       "      <th>MATCHUP</th>\n",
       "      <th>WL</th>\n",
       "      <th>MIN</th>\n",
       "      <th>FGM</th>\n",
       "      <th>...</th>\n",
       "      <th>DREB</th>\n",
       "      <th>REB</th>\n",
       "      <th>AST</th>\n",
       "      <th>STL</th>\n",
       "      <th>BLK</th>\n",
       "      <th>TOV</th>\n",
       "      <th>PF</th>\n",
       "      <th>PTS</th>\n",
       "      <th>PLUS_MINUS</th>\n",
       "      <th>VIDEO_AVAILABLE</th>\n",
       "    </tr>\n",
       "  </thead>\n",
       "  <tbody>\n",
       "    <tr>\n",
       "      <th>413</th>\n",
       "      <td>22018</td>\n",
       "      <td>1610612762</td>\n",
       "      <td>UTA</td>\n",
       "      <td>Utah Jazz</td>\n",
       "      <td>21800210</td>\n",
       "      <td>2018-11-14</td>\n",
       "      <td>UTA @ DAL</td>\n",
       "      <td>L</td>\n",
       "      <td>240</td>\n",
       "      <td>25</td>\n",
       "      <td>...</td>\n",
       "      <td>25</td>\n",
       "      <td>33</td>\n",
       "      <td>16</td>\n",
       "      <td>11</td>\n",
       "      <td>3</td>\n",
       "      <td>22</td>\n",
       "      <td>21</td>\n",
       "      <td>68</td>\n",
       "      <td>-50</td>\n",
       "      <td>1</td>\n",
       "    </tr>\n",
       "  </tbody>\n",
       "</table>\n",
       "<p>1 rows × 29 columns</p>\n",
       "</div>"
      ],
      "text/plain": [
       "     SEASON_ID     TEAM_ID TEAM_ABBREVIATION  TEAM_NAME   GAME_ID   GAME_DATE  \\\n",
       "413      22018  1610612762               UTA  Utah Jazz  21800210  2018-11-14   \n",
       "\n",
       "       MATCHUP WL  MIN  FGM       ...         DREB  REB  AST  STL  BLK  TOV  \\\n",
       "413  UTA @ DAL  L  240   25       ...           25   33   16   11    3   22   \n",
       "\n",
       "     PF  PTS  PLUS_MINUS  VIDEO_AVAILABLE  \n",
       "413  21   68         -50                1  \n",
       "\n",
       "[1 rows x 29 columns]"
      ]
     },
     "execution_count": 30,
     "metadata": {},
     "output_type": "execute_result"
    }
   ],
   "source": [
    "# Find out rows with the min and max points scored in a game\n",
    "\n",
    "df[df['PTS'] == 68]"
   ]
  },
  {
   "cell_type": "code",
   "execution_count": 31,
   "metadata": {},
   "outputs": [
    {
     "data": {
      "text/html": [
       "<div>\n",
       "<style scoped>\n",
       "    .dataframe tbody tr th:only-of-type {\n",
       "        vertical-align: middle;\n",
       "    }\n",
       "\n",
       "    .dataframe tbody tr th {\n",
       "        vertical-align: top;\n",
       "    }\n",
       "\n",
       "    .dataframe thead th {\n",
       "        text-align: right;\n",
       "    }\n",
       "</style>\n",
       "<table border=\"1\" class=\"dataframe\">\n",
       "  <thead>\n",
       "    <tr style=\"text-align: right;\">\n",
       "      <th></th>\n",
       "      <th>SEASON_ID</th>\n",
       "      <th>TEAM_ID</th>\n",
       "      <th>TEAM_ABBREVIATION</th>\n",
       "      <th>TEAM_NAME</th>\n",
       "      <th>GAME_ID</th>\n",
       "      <th>GAME_DATE</th>\n",
       "      <th>MATCHUP</th>\n",
       "      <th>WL</th>\n",
       "      <th>MIN</th>\n",
       "      <th>FGM</th>\n",
       "      <th>...</th>\n",
       "      <th>DREB</th>\n",
       "      <th>REB</th>\n",
       "      <th>AST</th>\n",
       "      <th>STL</th>\n",
       "      <th>BLK</th>\n",
       "      <th>TOV</th>\n",
       "      <th>PF</th>\n",
       "      <th>PTS</th>\n",
       "      <th>PLUS_MINUS</th>\n",
       "      <th>VIDEO_AVAILABLE</th>\n",
       "    </tr>\n",
       "  </thead>\n",
       "  <tbody>\n",
       "    <tr>\n",
       "      <th>1233</th>\n",
       "      <td>22018</td>\n",
       "      <td>1610612759</td>\n",
       "      <td>SAS</td>\n",
       "      <td>San Antonio Spurs</td>\n",
       "      <td>21800619</td>\n",
       "      <td>2019-01-10</td>\n",
       "      <td>SAS vs. OKC</td>\n",
       "      <td>W</td>\n",
       "      <td>290</td>\n",
       "      <td>56</td>\n",
       "      <td>...</td>\n",
       "      <td>38</td>\n",
       "      <td>43</td>\n",
       "      <td>38</td>\n",
       "      <td>8</td>\n",
       "      <td>10</td>\n",
       "      <td>17</td>\n",
       "      <td>25</td>\n",
       "      <td>154</td>\n",
       "      <td>7</td>\n",
       "      <td>1</td>\n",
       "    </tr>\n",
       "  </tbody>\n",
       "</table>\n",
       "<p>1 rows × 29 columns</p>\n",
       "</div>"
      ],
      "text/plain": [
       "      SEASON_ID     TEAM_ID TEAM_ABBREVIATION          TEAM_NAME   GAME_ID  \\\n",
       "1233      22018  1610612759               SAS  San Antonio Spurs  21800619   \n",
       "\n",
       "       GAME_DATE      MATCHUP WL  MIN  FGM       ...         DREB  REB  AST  \\\n",
       "1233  2019-01-10  SAS vs. OKC  W  290   56       ...           38   43   38   \n",
       "\n",
       "      STL  BLK  TOV  PF  PTS  PLUS_MINUS  VIDEO_AVAILABLE  \n",
       "1233    8   10   17  25  154           7                1  \n",
       "\n",
       "[1 rows x 29 columns]"
      ]
     },
     "execution_count": 31,
     "metadata": {},
     "output_type": "execute_result"
    }
   ],
   "source": [
    "df[df['PTS'] == 154] "
   ]
  },
  {
   "cell_type": "markdown",
   "metadata": {},
   "source": [
    "# Plots"
   ]
  },
  {
   "cell_type": "markdown",
   "metadata": {},
   "source": [
    "## Line plot notes\n",
    "\n",
    "* x-axis: date\n",
    "* y-axis: points\n",
    "* highlight the two teams with highest and lowest std values\n",
    "* also take a look at which team has the highest difference of min vs max"
   ]
  },
  {
   "cell_type": "markdown",
   "metadata": {},
   "source": [
    "### Points to label:\n",
    "\n",
    "* highest scoring point - bigger point\n",
    "* lowest scoring point - bigger point\n",
    "* Dallas Mavericks - highest std in Dallas blue, bigger line\n",
    "* Houston Rockets - lowest std in Houston red, bigger line"
   ]
  },
  {
   "cell_type": "code",
   "execution_count": 48,
   "metadata": {},
   "outputs": [
    {
     "data": {
      "text/plain": [
       "0    2018-10-16\n",
       "1    2018-10-16\n",
       "2    2018-10-16\n",
       "3    2018-10-16\n",
       "4    2018-10-17\n",
       "Name: GAME_DATE, dtype: object"
      ]
     },
     "execution_count": 48,
     "metadata": {},
     "output_type": "execute_result"
    }
   ],
   "source": [
    "df['GAME_DATE'].head(n=5)"
   ]
  },
  {
   "cell_type": "code",
   "execution_count": 49,
   "metadata": {},
   "outputs": [
    {
     "data": {
      "text/html": [
       "<div>\n",
       "<style scoped>\n",
       "    .dataframe tbody tr th:only-of-type {\n",
       "        vertical-align: middle;\n",
       "    }\n",
       "\n",
       "    .dataframe tbody tr th {\n",
       "        vertical-align: top;\n",
       "    }\n",
       "\n",
       "    .dataframe thead th {\n",
       "        text-align: right;\n",
       "    }\n",
       "</style>\n",
       "<table border=\"1\" class=\"dataframe\">\n",
       "  <thead>\n",
       "    <tr style=\"text-align: right;\">\n",
       "      <th></th>\n",
       "      <th>SEASON_ID</th>\n",
       "      <th>TEAM_ID</th>\n",
       "      <th>TEAM_ABBREVIATION</th>\n",
       "      <th>TEAM_NAME</th>\n",
       "      <th>GAME_ID</th>\n",
       "      <th>GAME_DATE</th>\n",
       "      <th>MATCHUP</th>\n",
       "      <th>WL</th>\n",
       "      <th>MIN</th>\n",
       "      <th>FGM</th>\n",
       "      <th>...</th>\n",
       "      <th>DREB</th>\n",
       "      <th>REB</th>\n",
       "      <th>AST</th>\n",
       "      <th>STL</th>\n",
       "      <th>BLK</th>\n",
       "      <th>TOV</th>\n",
       "      <th>PF</th>\n",
       "      <th>PTS</th>\n",
       "      <th>PLUS_MINUS</th>\n",
       "      <th>VIDEO_AVAILABLE</th>\n",
       "    </tr>\n",
       "  </thead>\n",
       "  <tbody>\n",
       "  </tbody>\n",
       "</table>\n",
       "<p>0 rows × 29 columns</p>\n",
       "</div>"
      ],
      "text/plain": [
       "Empty DataFrame\n",
       "Columns: [SEASON_ID, TEAM_ID, TEAM_ABBREVIATION, TEAM_NAME, GAME_ID, GAME_DATE, MATCHUP, WL, MIN, FGM, FGA, FG_PCT, FG3M, FG3A, FG3_PCT, FTM, FTA, FT_PCT, OREB, DREB, REB, AST, STL, BLK, TOV, PF, PTS, PLUS_MINUS, VIDEO_AVAILABLE]\n",
       "Index: []\n",
       "\n",
       "[0 rows x 29 columns]"
      ]
     },
     "execution_count": 49,
     "metadata": {},
     "output_type": "execute_result"
    }
   ],
   "source": [
    "mavs_df"
   ]
  },
  {
   "cell_type": "code",
   "execution_count": 50,
   "metadata": {},
   "outputs": [
    {
     "data": {
      "text/html": [
       "<iframe id=\"igraph\" scrolling=\"no\" style=\"border:none;\" seamless=\"seamless\" src=\"https://plot.ly/~SpecC/17.embed\" height=\"525px\" width=\"100%\"></iframe>"
      ],
      "text/plain": [
       "<plotly.tools.PlotlyDisplay object>"
      ]
     },
     "execution_count": 50,
     "metadata": {},
     "output_type": "execute_result"
    }
   ],
   "source": [
    "# start with a test plot of Dallas Mavericks\n",
    "mavs_df = df[df.TEAM_NAME == 'Dallas Mavericks']\n",
    "\n",
    "x_dates = mavs_df['GAME_DATE']\n",
    "y_pts = mavs_df['PTS']\n",
    "\n",
    "traces = [] # dicts of data to plot\n",
    "\n",
    "# first test plot\n",
    "\n",
    "traces.append(go.Scatter(\n",
    "    x=x_dates,\n",
    "    y=y_pts\n",
    "))\n",
    "\n",
    "fig = go.Figure(data=traces)\n",
    "py.iplot(fig, filename='pts_scored_current_season')"
   ]
  }
 ],
 "metadata": {
  "kernelspec": {
   "display_name": "Python 3",
   "language": "python",
   "name": "python3"
  },
  "language_info": {
   "codemirror_mode": {
    "name": "ipython",
    "version": 3
   },
   "file_extension": ".py",
   "mimetype": "text/x-python",
   "name": "python",
   "nbconvert_exporter": "python",
   "pygments_lexer": "ipython3",
   "version": "3.6.8"
  }
 },
 "nbformat": 4,
 "nbformat_minor": 2
}
